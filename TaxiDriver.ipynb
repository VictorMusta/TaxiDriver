{
 "cells": [
  {
   "cell_type": "markdown",
   "source": [
    "# Taxi Driver Jupiter\n",
    "## Imports and init the env"
   ],
   "metadata": {
    "collapsed": false
   },
   "id": "5e6f82af54ceea1"
  },
  {
   "cell_type": "code",
   "outputs": [],
   "source": [
    "\n",
    "\n",
    "import gymnasium as gym\n",
    "import pygame"
   ],
   "metadata": {
    "collapsed": false,
    "ExecuteTime": {
     "end_time": "2024-02-23T15:20:07.354860033Z",
     "start_time": "2024-02-23T15:20:07.344789755Z"
    }
   },
   "id": "13a9c47b22555fa2",
   "execution_count": 289
  },
  {
   "cell_type": "code",
   "outputs": [],
   "source": [
    "pygame.init()\n",
    "env = gym.make('Taxi-v3')\n",
    "# env = gym.make('Taxi-v3', render_mode=\"human\")\n",
    "state, info = env.reset()\n",
    "HUMAN_HAS_PLAYER_MODE = False"
   ],
   "metadata": {
    "collapsed": false,
    "ExecuteTime": {
     "end_time": "2024-02-23T15:20:07.387658110Z",
     "start_time": "2024-02-23T15:20:07.387238960Z"
    }
   },
   "id": "30d40a74a2df73dd",
   "execution_count": 290
  },
  {
   "cell_type": "markdown",
   "source": [
    "## Running episodes\n",
    "**episode_counter**:    counter for the number of tries\n",
    "**episode_limit**:      the number of episodes in an epoch\n",
    "**time_spent**:         number of actions the agent took (or time spent in an episode)\n",
    "**time_limit**:         limit of time for the episode to fail\n",
    "**results**:            the output of the run"
   ],
   "metadata": {
    "collapsed": false
   },
   "id": "a5567fe80791b6a5"
  },
  {
   "cell_type": "code",
   "outputs": [
    {
     "name": "stdout",
     "output_type": "stream",
     "text": [
      "Epoch: 1000 / 1000\n"
     ]
    }
   ],
   "source": [
    "episode_counter = 0\n",
    "episode_limit = 1000\n",
    "time_spent = 0\n",
    "time_limit = 50\n",
    "results = {}\n",
    "while episode_counter < episode_limit:\n",
    "\n",
    "    # end of episode_counter if true\n",
    "    terminated = False\n",
    "    # total reward of an agent for an episode_counter\n",
    "    episode_reward = 0\n",
    "    # time spent in the episode\n",
    "    time_spent = 0\n",
    "\n",
    "    while (terminated is not True) and (time_spent < time_limit):\n",
    "\n",
    "        for event in pygame.event.get():\n",
    "            if event.type == pygame.QUIT:\n",
    "                running = False\n",
    "\n",
    "        if HUMAN_HAS_PLAYER_MODE:\n",
    "            action = input(\"action\")\n",
    "        else:\n",
    "            # get an action in the action_mask array of the agent:\n",
    "            # 0: Move south (down)\n",
    "\n",
    "            # 1: Move north (up)\n",
    "\n",
    "            # 2: Move east (right)\n",
    "\n",
    "            # 3: Move west (left)\n",
    "\n",
    "            # 4: Pickup passenger\n",
    "\n",
    "            # 5: Drop off passenger\n",
    "            action = env.action_space.sample(info[\"action_mask\"])\n",
    "            # action = randint(0, 5)\n",
    "\n",
    "        # get step results in different variables.\n",
    "        observation, reward, terminated, truncated, info = env.step(int(action))\n",
    "        # counts total episode's reward\n",
    "        episode_reward += reward\n",
    "        time_spent += 1\n",
    "\n",
    "        # in you want to see outputs of the env.step() command:\n",
    "        # print(\"observation:\", observation, \"reward:\", reward, \"terminated\", terminated, \"truncated\", truncated, \"info\", info)\n",
    "\n",
    "        # print episode's progress\n",
    "        # print(str(time_spent)+\"/\"+str(time_limit))\n",
    "\n",
    "        # terminated is True only if the passenger is dropped in his wanted location.\n",
    "    # at each end of episode, record results in \n",
    "    results[str(episode_counter)] = {\"is_finished\": terminated, \"episode_reward\": episode_reward}\n",
    "\n",
    "    # Clear terminal for a clear progress display\n",
    "    clear_output(wait=True)\n",
    "\n",
    "    episode_counter += 1\n",
    "    env.reset()\n",
    "    print(\"Epoch: \" + str(episode_counter) + \" / \" + str(episode_limit))\n"
   ],
   "metadata": {
    "collapsed": false
   },
   "id": "571ee3b0f7bae5b0",
   "execution_count": 291
  },
  {
   "cell_type": "markdown",
   "source": [
    "## Display result and graphs"
   ],
   "metadata": {
    "collapsed": false
   },
   "id": "2e4acf2770e11e37"
  },
  {
   "cell_type": "code",
   "outputs": [
    {
     "name": "stdout",
     "output_type": "stream",
     "text": [
      "worst episode: -59\n",
      "best episode: 5\n",
      "win counter: 15\n"
     ]
    },
    {
     "data": {
      "text/plain": "<Figure size 200x200 with 1 Axes>",
      "image/png": "[encoded data removed]"
     },
     "metadata": {},
     "output_type": "display_data"
    }
   ],
   "source": [
    "import matplotlib.pyplot as plt\n",
    "import numpy as np\n",
    "\n",
    "# print(results)\n",
    "episode_reward_list = []\n",
    "win_counter = 0\n",
    "episode_keys = []\n",
    "for episode_key, result in results.items():\n",
    "    episode_keys.append(episode_key)\n",
    "    for column, value in result.items():\n",
    "        if column == \"episode_reward\":\n",
    "            episode_reward_list.append(value)\n",
    "\n",
    "        if column == \"is_finished\":\n",
    "            if value:\n",
    "                win_counter += 1\n",
    "        # print(column, \":\", value)\n",
    "    # print(\"episode n°\", episode_key, '\\n')\n",
    "# print(episode_reward_list)\n",
    "# print(episode_keys)\n",
    "plt.plot(episode_keys, episode_reward_list, \"x\")\n",
    "\n",
    "print(\"worst episode:\", min(episode_reward_list))\n",
    "print(\"best episode:\", max(episode_reward_list))\n",
    "print('win counter:', win_counter)"
   ],
   "metadata": {
    "collapsed": false,
    "ExecuteTime": {
     "end_time": "2024-02-23T15:45:28.151477340Z",
     "start_time": "2024-02-23T15:45:25.933409988Z"
    }
   },
   "id": "initial_id",
   "execution_count": 302
  },
  {
   "cell_type": "code",
   "outputs": [
    {
     "data": {
      "text/plain": "<Figure size 200x200 with 1 Axes>",
      "image/png": "[encoded data removed]"
     },
     "metadata": {},
     "output_type": "display_data"
    }
   ],
   "source": [
    "plt.style.use('_mpl-gallery')\n",
    "\n",
    "# make the data\n",
    "np.random.seed(3)\n",
    "x = episode_reward_list\n",
    "y = episode_keys\n",
    "# size and color:\n",
    "sizes = np.random.uniform(15, 80, len(x))\n",
    "colors = np.random.uniform(15, 80, len(x))\n",
    "\n",
    "# plot\n",
    "fig, ax = plt.subplots()\n",
    "ax.scatter(x, y, s=50, c=colors, vmin=0, vmax=100)\n",
    "\n",
    "ax.set(xlim=(0, 8), xticks=np.arange(0.999),\n",
    "       ylim=(0, 8), yticks=np.arange(-60, +20))\n",
    "\n",
    "plt.show()"
   ],
   "metadata": {
    "collapsed": false,
    "ExecuteTime": {
     "end_time": "2024-02-23T15:30:21.327902532Z",
     "start_time": "2024-02-23T15:30:21.189406279Z"
    }
   },
   "id": "43ec12157bae8d42",
   "execution_count": 300
  }
 ],
 "metadata": {
  "kernelspec": {
   "display_name": "Python 3",
   "language": "python",
   "name": "python3"
  },
  "language_info": {
   "codemirror_mode": {
    "name": "ipython",
    "version": 2
   },
   "file_extension": ".py",
   "mimetype": "text/x-python",
   "name": "python",
   "nbconvert_exporter": "python",
   "pygments_lexer": "ipython2",
   "version": "2.7.6"
  }
 },
 "nbformat": 4,
 "nbformat_minor": 5
}
